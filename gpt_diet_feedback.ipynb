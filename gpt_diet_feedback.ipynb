{
  "nbformat": 4,
  "nbformat_minor": 0,
  "metadata": {
    "colab": {
      "provenance": []
    },
    "kernelspec": {
      "name": "python3",
      "display_name": "Python 3"
    },
    "language_info": {
      "name": "python"
    }
  },
  "cells": [
    {
      "cell_type": "code",
      "source": [
        "! pip install openai==0.28"
      ],
      "metadata": {
        "id": "Q-P_Jvj_BxEG",
        "colab": {
          "base_uri": "https://localhost:8080/"
        },
        "outputId": "95eb0174-bb35-451b-bf9e-cd8cfdb9b051"
      },
      "execution_count": null,
      "outputs": [
        {
          "output_type": "stream",
          "name": "stdout",
          "text": [
            "Requirement already satisfied: openai==0.28 in /usr/local/lib/python3.10/dist-packages (0.28.0)\n",
            "Requirement already satisfied: requests>=2.20 in /usr/local/lib/python3.10/dist-packages (from openai==0.28) (2.32.3)\n",
            "Requirement already satisfied: tqdm in /usr/local/lib/python3.10/dist-packages (from openai==0.28) (4.66.6)\n",
            "Requirement already satisfied: aiohttp in /usr/local/lib/python3.10/dist-packages (from openai==0.28) (3.10.10)\n",
            "Requirement already satisfied: charset-normalizer<4,>=2 in /usr/local/lib/python3.10/dist-packages (from requests>=2.20->openai==0.28) (3.4.0)\n",
            "Requirement already satisfied: idna<4,>=2.5 in /usr/local/lib/python3.10/dist-packages (from requests>=2.20->openai==0.28) (3.10)\n",
            "Requirement already satisfied: urllib3<3,>=1.21.1 in /usr/local/lib/python3.10/dist-packages (from requests>=2.20->openai==0.28) (2.2.3)\n",
            "Requirement already satisfied: certifi>=2017.4.17 in /usr/local/lib/python3.10/dist-packages (from requests>=2.20->openai==0.28) (2024.8.30)\n",
            "Requirement already satisfied: aiohappyeyeballs>=2.3.0 in /usr/local/lib/python3.10/dist-packages (from aiohttp->openai==0.28) (2.4.3)\n",
            "Requirement already satisfied: aiosignal>=1.1.2 in /usr/local/lib/python3.10/dist-packages (from aiohttp->openai==0.28) (1.3.1)\n",
            "Requirement already satisfied: attrs>=17.3.0 in /usr/local/lib/python3.10/dist-packages (from aiohttp->openai==0.28) (24.2.0)\n",
            "Requirement already satisfied: frozenlist>=1.1.1 in /usr/local/lib/python3.10/dist-packages (from aiohttp->openai==0.28) (1.5.0)\n",
            "Requirement already satisfied: multidict<7.0,>=4.5 in /usr/local/lib/python3.10/dist-packages (from aiohttp->openai==0.28) (6.1.0)\n",
            "Requirement already satisfied: yarl<2.0,>=1.12.0 in /usr/local/lib/python3.10/dist-packages (from aiohttp->openai==0.28) (1.17.1)\n",
            "Requirement already satisfied: async-timeout<5.0,>=4.0 in /usr/local/lib/python3.10/dist-packages (from aiohttp->openai==0.28) (4.0.3)\n",
            "Requirement already satisfied: typing-extensions>=4.1.0 in /usr/local/lib/python3.10/dist-packages (from multidict<7.0,>=4.5->aiohttp->openai==0.28) (4.12.2)\n",
            "Requirement already satisfied: propcache>=0.2.0 in /usr/local/lib/python3.10/dist-packages (from yarl<2.0,>=1.12.0->aiohttp->openai==0.28) (0.2.0)\n"
          ]
        }
      ]
    },
    {
      "cell_type": "code",
      "source": [
        "\n",
        "models = openai.Model.list()\n",
        "\n",
        "for model in models['data']:\n",
        "    print(model['id'])"
      ],
      "metadata": {
        "colab": {
          "base_uri": "https://localhost:8080/"
        },
        "id": "X0Q66vw3sBnf",
        "outputId": "8466ba98-3ea7-480e-cafc-0847598c08e7"
      },
      "execution_count": null,
      "outputs": [
        {
          "output_type": "stream",
          "name": "stdout",
          "text": [
            "dall-e-2\n",
            "whisper-1\n",
            "gpt-3.5-turbo-instruct\n",
            "tts-1-hd-1106\n",
            "gpt-3.5-turbo\n",
            "gpt-3.5-turbo-0125\n",
            "babbage-002\n",
            "davinci-002\n",
            "dall-e-3\n",
            "tts-1\n",
            "gpt-3.5-turbo-16k\n",
            "tts-1-1106\n",
            "tts-1-hd\n",
            "text-embedding-ada-002\n",
            "text-embedding-3-small\n",
            "text-embedding-3-large\n",
            "gpt-4o-mini-2024-07-18\n",
            "gpt-4o-mini\n",
            "gpt-3.5-turbo-1106\n",
            "gpt-3.5-turbo-instruct-0914\n"
          ]
        }
      ]
    },
    {
      "cell_type": "code",
      "source": [
        "import openai\n",
        "import os\n",
        "import time\n",
        "\n",
        "# OpenAI API 키 설정 (환경 변수에서 로드)\n",
        "openai.api_key = os.getenv(\"OPENAI_API_KEY\")\n",
        "\n",
        "# 사용자 데이터 예시\n",
        "user_data = {\n",
        "    \"age\": 30,\n",
        "    \"gender\": \"female\",\n",
        "    \"meal_time\": \"breakfast\",\n",
        "    \"food_intake\": {\n",
        "        \"rice\": {\"before\": 200, \"after\": 100},\n",
        "        \"banana\": {\"before\": 120, \"after\": 0},\n",
        "        \"kimchi\": {\"before\": 50, \"after\": 20}\n",
        "    },\n",
        "    \"nutrient_requirements\": {\n",
        "        \"carbohydrates\": 300,\n",
        "        \"proteins\": 50,\n",
        "        \"fats\": 70,\n",
        "        \"fiber\": 25\n",
        "    }\n",
        "}\n",
        "\n",
        "# 프롬프트 생성 함수\n",
        "def create_prompt(data):\n",
        "    prompt = f\"연령대: {data['age']}세, 성별: {data['gender']}인 사용자의 {data['meal_time']}에 대한 피드백을 제공해주세요.\\n\\n\"\n",
        "    prompt += \"사용자가 섭취한 음식과 전/후 섭취량:\\n\"\n",
        "    for food, intake in data[\"food_intake\"].items():\n",
        "        consumed = intake[\"before\"] - intake[\"after\"]\n",
        "        prompt += f\"- {food}: {intake['before']}g 중 {consumed}g 섭취\\n\"\n",
        "\n",
        "    prompt += \"\\n1인분 기준 권장 섭취량(일일 기준):\\n\"\n",
        "    for nutrient, amount in data[\"nutrient_requirements\"].items():\n",
        "        prompt += f\"- {nutrient}: {amount}g\\n\"\n",
        "\n",
        "    prompt += \"\\n위 정보를 바탕으로 사용자의 섭취량이 적절한지 분석하고, 부족하거나 과다한 영양소에 대해 피드백을 제공해주세요. \"\n",
        "    prompt += \"또한, 더 건강한 식습관을 위해 조언을 추가해 주세요.\"\n",
        "    return prompt\n",
        "\n",
        "# GPT API 요청 함수\n",
        "def get_diet_feedback(data, retry_limit=3, delay=5):\n",
        "    prompt = create_prompt(data)\n",
        "    for attempt in range(retry_limit):\n",
        "        try:\n",
        "            response = openai.ChatCompletion.create(\n",
        "                model=\"gpt-3.5-turbo\",\n",
        "                messages=[\n",
        "                    {\"role\": \"system\", \"content\": \"You are a dietary feedback assistant.\"},\n",
        "                    {\"role\": \"user\", \"content\": prompt}\n",
        "                ],\n",
        "                max_tokens=100,\n",
        "                temperature=0.7\n",
        "            )\n",
        "            return response['choices'][0]['message']['content'].strip()\n",
        "        except openai.error.RateLimitError:\n",
        "            print(f\"Rate limit reached. Retrying in {delay} seconds...\")\n",
        "            time.sleep(delay)\n",
        "    return \"할당량을 초과했습니다. 요금제 및 할당량을 확인해주세요.\"\n",
        "\n",
        "# 맞춤형 피드백 생성 및 출력\n",
        "feedback = get_diet_feedback(user_data)\n",
        "print(\"맞춤형 피드백:\\n\", feedback)\n"
      ],
      "metadata": {
        "id": "UXcL-XobxBKm"
      },
      "execution_count": null,
      "outputs": []
    }
  ]
}